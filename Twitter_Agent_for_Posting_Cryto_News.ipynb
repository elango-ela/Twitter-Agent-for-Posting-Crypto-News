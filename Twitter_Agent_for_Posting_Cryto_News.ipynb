{
  "cells": [
    {
      "cell_type": "markdown",
      "metadata": {
        "id": "view-in-github",
        "colab_type": "text"
      },
      "source": [
        "<a href=\"https://colab.research.google.com/github/elango-ela/Twitter-Agent-for-Posting-Crypto-News/blob/main/Twitter_Agent_for_Posting_Cryto_News.ipynb\" target=\"_parent\"><img src=\"https://colab.research.google.com/assets/colab-badge.svg\" alt=\"Open In Colab\"/></a>"
      ]
    },
    {
      "cell_type": "code",
      "execution_count": null,
      "metadata": {
        "colab": {
          "base_uri": "https://localhost:8080/"
        },
        "id": "uQygaFs8WFxo",
        "outputId": "9aa4aa6f-a020-443d-a493-f193d355cd7f"
      },
      "outputs": [
        {
          "output_type": "stream",
          "name": "stdout",
          "text": [
            "Requirement already satisfied: tweepy in /usr/local/lib/python3.11/dist-packages (4.15.0)\n",
            "Requirement already satisfied: oauthlib<4,>=3.2.0 in /usr/local/lib/python3.11/dist-packages (from tweepy) (3.2.2)\n",
            "Requirement already satisfied: requests<3,>=2.27.0 in /usr/local/lib/python3.11/dist-packages (from tweepy) (2.32.3)\n",
            "Requirement already satisfied: requests-oauthlib<3,>=1.2.0 in /usr/local/lib/python3.11/dist-packages (from tweepy) (2.0.0)\n",
            "Requirement already satisfied: charset-normalizer<4,>=2 in /usr/local/lib/python3.11/dist-packages (from requests<3,>=2.27.0->tweepy) (3.4.1)\n",
            "Requirement already satisfied: idna<4,>=2.5 in /usr/local/lib/python3.11/dist-packages (from requests<3,>=2.27.0->tweepy) (3.10)\n",
            "Requirement already satisfied: urllib3<3,>=1.21.1 in /usr/local/lib/python3.11/dist-packages (from requests<3,>=2.27.0->tweepy) (2.3.0)\n",
            "Requirement already satisfied: certifi>=2017.4.17 in /usr/local/lib/python3.11/dist-packages (from requests<3,>=2.27.0->tweepy) (2025.1.31)\n"
          ]
        }
      ],
      "source": [
        "pip install tweepy"
      ]
    },
    {
      "cell_type": "code",
      "execution_count": null,
      "metadata": {
        "colab": {
          "base_uri": "https://localhost:8080/",
          "height": 245
        },
        "id": "Z8aiZt_o1M4V",
        "outputId": "4b2d7f5a-67eb-4307-fdd1-3a600310cda1"
      },
      "outputs": [
        {
          "output_type": "stream",
          "name": "stdout",
          "text": [
            "\n",
            "Fetching article: Bitcoin (BTC) Price Prediction for March 19\n",
            "\n",
            "Fetching article: Race to List: Exchanges Are Competing for Adding New Tokens Faster\n",
            "\n",
            "Fetching article: Michael Saylor Stuns With BTC Statement as Bitcoin Returns to Green\n",
            "\n",
            "Fetching article: MicroStrategy’s Bitcoin Gamble: Will Debt and Stock Dilution Lead to Collapse?\n",
            "\n",
            "Fetching article: Binance Founder CZ Changed His Profile Photo, This Altcoin Price First Pumped, Then Dumped!\n",
            "Generated Tweet: Bitcoin price eyes $85000 if buyers keep the pressure while Michael Saylor suggests Bitcoin as a hedge against currency devaluation like the Turkish lira plus a memecoin linked to Binance founder CZ saw a price surge after CZ updated his profile.\n",
            "Tweet posted: https://twitter.com/user/status/1902374592401822095\n"
          ]
        }
      ],
      "source": [
        "import requests\n",
        "import tweepy\n",
        "import google.generativeai as genai\n",
        "from bs4 import BeautifulSoup\n",
        "\n",
        "# Twitter API credentials (replace with your actual keys)\n",
        "BEARER_TOKEN = \"YOUR_BEARER_TOKEN\"\n",
        "CONSUMER_KEY = \"YOUR_CONSUMER_KEY\"\n",
        "CONSUMER_SECRET = \"YOUR_CONSUMER_SECRET\"\n",
        "ACCESS_TOKEN = \"YOUR_ACCESS_TOKEN\"\n",
        "ACCESS_TOKEN_SECRET = \"YOUR_ACCESS_TOKEN_SECRET\"\n",
        "\n",
        "# Google Gemini API Key (replace with your actual key)\n",
        "GEMINI_API_KEY = \"YOUR_GEMINI_API_KEY\"\n",
        "genai.configure(api_key=GEMINI_API_KEY)\n",
        "\n",
        "# ------------------------------------------\n",
        "# 1️⃣ FETCH CRYPTO NEWS FROM CRYPTOCOMPARE\n",
        "# ------------------------------------------\n",
        "def fetch_crypto_news():\n",
        "    url = \"https://min-api.cryptocompare.com/data/v2/news/?lang=EN\"\n",
        "    response = requests.get(url)\n",
        "\n",
        "    if response.status_code == 200:\n",
        "        news_data = response.json()\n",
        "        articles = news_data.get(\"Data\", [])[:5]  # Limit to first 5 articles\n",
        "        news_list = []\n",
        "\n",
        "        for article in articles:\n",
        "            title = article[\"title\"]\n",
        "            article_url = article[\"url\"]\n",
        "\n",
        "            print(f\"\\nFetching article: {title}\")\n",
        "            content = extract_article_content(article_url)\n",
        "\n",
        "            news_list.append({\"title\": title, \"content\": content})\n",
        "\n",
        "        return news_list\n",
        "    else:\n",
        "        print(\"Failed to fetch crypto news. Status Code:\", response.status_code)\n",
        "        return []\n",
        "\n",
        "# ------------------------------------------\n",
        "# 2️⃣ EXTRACT ARTICLE CONTENT\n",
        "# ------------------------------------------\n",
        "def extract_article_content(url):\n",
        "    \"\"\"Fetches and extracts article content from the given URL.\"\"\"\n",
        "    try:\n",
        "        headers = {\"User-Agent\": \"Mozilla/5.0\"}\n",
        "        response = requests.get(url, headers=headers, timeout=10)\n",
        "\n",
        "        if response.status_code == 200:\n",
        "            soup = BeautifulSoup(response.text, \"html.parser\")\n",
        "            paragraphs = soup.find_all(\"p\")\n",
        "            return \"\\n\".join(p.get_text() for p in paragraphs[:5])  # Extract first 5 paragraphs\n",
        "        else:\n",
        "            return f\"Failed to fetch article. Status Code: {response.status_code}\"\n",
        "\n",
        "    except Exception as e:\n",
        "        return f\"Error extracting content: {str(e)}\"\n",
        "\n",
        "# ------------------------------------------\n",
        "# 3️⃣ SUMMARIZE NEWS USING GEMINI AI\n",
        "# ------------------------------------------\n",
        "def summarize_news(news_list):\n",
        "    \"\"\"Uses Google Gemini AI to summarize crypto news into a tweetable format.\"\"\"\n",
        "    news_text = \"\\n\\n\".join([f\"Title: {news['title']}\\nContent: {news['content']}\" for news in news_list])\n",
        "\n",
        "    prompt = f\"\"\"Pick the most important cryptocurrency news and summarize it in a single paragraph without any full stops, emojis, or hashtags. Make it engaging and easy to read. Note it should be only 280 characters precisely so don't skip any line to next line.\n",
        "\n",
        "    News:\\n{news_text}\"\"\"\n",
        "\n",
        "    model = genai.GenerativeModel(\"gemini-2.0-flash\")\n",
        "    response = model.generate_content(prompt)\n",
        "\n",
        "    return response.text.strip() if response.text else \"Crypto markets are moving fast! Stay updated.\"\n",
        "\n",
        "# ------------------------------------------\n",
        "# 4️⃣ POST TWEET VIA TWEEPY\n",
        "# ------------------------------------------\n",
        "def post_tweet(tweet_text):\n",
        "    \"\"\"Posts the summarized crypto news to Twitter.\"\"\"\n",
        "    client = tweepy.Client(\n",
        "        bearer_token=BEARER_TOKEN,\n",
        "        consumer_key=CONSUMER_KEY,\n",
        "        consumer_secret=CONSUMER_SECRET,\n",
        "        access_token=ACCESS_TOKEN,\n",
        "        access_token_secret=ACCESS_TOKEN_SECRET,\n",
        "        wait_on_rate_limit=True\n",
        "    )\n",
        "\n",
        "    response = client.create_tweet(text=tweet_text)\n",
        "    print(f\"Tweet posted: https://twitter.com/user/status/{response.data['id']}\")\n",
        "\n",
        "# ------------------------------------------\n",
        "# 5️⃣ MAIN FUNCTION TO EXECUTE ALL STEPS\n",
        "# ------------------------------------------\n",
        "def main():\n",
        "    articles = fetch_crypto_news()  # Step 1: Fetch crypto news\n",
        "\n",
        "    if articles:\n",
        "        tweet_text = summarize_news(articles)  # Step 2: Summarize news\n",
        "        print(f\"Generated Tweet: {tweet_text}\")\n",
        "\n",
        "        post_tweet(tweet_text)  # Step 3: Post to Twitter\n",
        "\n",
        "if __name__ == \"__main__\":\n",
        "    main()"
      ]
    }
  ],
  "metadata": {
    "colab": {
      "provenance": [],
      "include_colab_link": true
    },
    "kernelspec": {
      "display_name": "Python 3",
      "name": "python3"
    }
  },
  "nbformat": 4,
  "nbformat_minor": 0
}